{
 "cells": [
  {
   "cell_type": "code",
   "execution_count": 1,
   "metadata": {},
   "outputs": [],
   "source": [
    "import warnings\n",
    "warnings.simplefilter(action='ignore', category=FutureWarning)\n",
    "import tensorflow as tf\n",
    "mnist=tf.keras.datasets.mnist\n",
    "import matplotlib.pyplot as plt\n",
    "import numpy as np"
   ]
  },
  {
   "cell_type": "code",
   "execution_count": 2,
   "metadata": {},
   "outputs": [],
   "source": [
    "(train_images1, train_labels), (test_images1, test_labels)=mnist.load_data()"
   ]
  },
  {
   "cell_type": "code",
   "execution_count": 3,
   "metadata": {},
   "outputs": [
    {
     "name": "stderr",
     "output_type": "stream",
     "text": [
      "Using TensorFlow backend.\n"
     ]
    }
   ],
   "source": [
    "import keras\n",
    "from keras.utils import to_categorical\n",
    "(train_images, train_labels), (test_images, test_labels)=mnist.load_data()\n",
    "\n",
    "train_images=train_images.reshape((60000, 28, 28, 1))\n",
    "train_images=train_images.astype('float32')/255\n",
    "test_images1=test_images.copy()\n",
    "test_images=test_images.reshape((10000, 28, 28, 1))\n",
    "test_images=test_images.astype('float32')/255\n",
    "\n",
    "train_labels=to_categorical(train_labels)\n",
    "test_labels=to_categorical(test_labels)"
   ]
  },
  {
   "cell_type": "code",
   "execution_count": 4,
   "metadata": {},
   "outputs": [],
   "source": [
    "x_test_noise=[]\n",
    "for i in range(len(test_images1)):\n",
    "    im=test_images1[i].copy()\n",
    "    im=im+3*im.std()*np.random.random(im.shape)*1.2 #adding noise to dataset\n",
    "    x_test_noise.append(im)\n",
    "x_test_noise=np.asarray(x_test_noise)\n",
    "x_test_noise1=x_test_noise.reshape((10000, 28, 28, 1))\n",
    "x_test_noise1=x_test_noise1.astype('float32')/255"
   ]
  },
  {
   "cell_type": "code",
   "execution_count": 5,
   "metadata": {},
   "outputs": [],
   "source": [
    "#svd on all test data\n",
    "el=40\n",
    "x_test_noise_flat=x_test_noise.reshape((10000,784))\n",
    "U,S,VT=np.linalg.svd(x_test_noise_flat)\n",
    "Snew=np.diag(S[range(0,el)])\n",
    "Unew=U[:,range(0,el)]\n",
    "VTnew=VT[range(0,el)]\n",
    "x_test_noise_flat=np.matmul(Unew,np.matmul(Snew,VTnew))\n",
    "x_test_noise_flat=x_test_noise_flat.reshape(10000,28,28)\n",
    "x_test_noise_flat1=x_test_noise_flat.reshape((10000, 28, 28, 1))\n",
    "x_test_noise_flat1=x_test_noise_flat1.astype('float32')/255\n"
   ]
  },
  {
   "cell_type": "code",
   "execution_count": 6,
   "metadata": {},
   "outputs": [
    {
     "data": {
      "text/plain": [
       "<matplotlib.image.AxesImage at 0x26329a2fbe0>"
      ]
     },
     "execution_count": 6,
     "metadata": {},
     "output_type": "execute_result"
    },
    {
     "data": {
      "image/png": "[encoded data removed]",
      "text/plain": [
       "<Figure size 720x720 with 3 Axes>"
      ]
     },
     "metadata": {},
     "output_type": "display_data"
    }
   ],
   "source": [
    "plt.figure(figsize=(10,10))\n",
    "plt.subplot(1,3,1)\n",
    "plt.title(\"No Noise\")\n",
    "plt.imshow(test_images1[0],cmap='gray_r')\n",
    "plt.subplot(1,3,2)\n",
    "plt.title(\"Noise Added\")\n",
    "plt.imshow(x_test_noise[0],cmap='gray_r')\n",
    "plt.subplot(1,3,3)\n",
    "plt.title(\"Noise Removed\")\n",
    "plt.imshow(x_test_noise_flat[0],cmap='gray_r')\n"
   ]
  },
  {
   "cell_type": "code",
   "execution_count": 7,
   "metadata": {},
   "outputs": [
    {
     "name": "stdout",
     "output_type": "stream",
     "text": [
      "WARNING:tensorflow:From C:\\Users\\wamsa\\Anaconda3\\lib\\site-packages\\keras\\backend\\tensorflow_backend.py:74: The name tf.get_default_graph is deprecated. Please use tf.compat.v1.get_default_graph instead.\n",
      "\n",
      "WARNING:tensorflow:From C:\\Users\\wamsa\\Anaconda3\\lib\\site-packages\\keras\\backend\\tensorflow_backend.py:517: The name tf.placeholder is deprecated. Please use tf.compat.v1.placeholder instead.\n",
      "\n",
      "WARNING:tensorflow:From C:\\Users\\wamsa\\Anaconda3\\lib\\site-packages\\keras\\backend\\tensorflow_backend.py:4138: The name tf.random_uniform is deprecated. Please use tf.random.uniform instead.\n",
      "\n",
      "WARNING:tensorflow:From C:\\Users\\wamsa\\Anaconda3\\lib\\site-packages\\keras\\backend\\tensorflow_backend.py:3976: The name tf.nn.max_pool is deprecated. Please use tf.nn.max_pool2d instead.\n",
      "\n",
      "WARNING:tensorflow:From C:\\Users\\wamsa\\Anaconda3\\lib\\site-packages\\keras\\optimizers.py:790: The name tf.train.Optimizer is deprecated. Please use tf.compat.v1.train.Optimizer instead.\n",
      "\n",
      "WARNING:tensorflow:From C:\\Users\\wamsa\\Anaconda3\\lib\\site-packages\\keras\\backend\\tensorflow_backend.py:3295: The name tf.log is deprecated. Please use tf.math.log instead.\n",
      "\n",
      "_________________________________________________________________\n",
      "Layer (type)                 Output Shape              Param #   \n",
      "=================================================================\n",
      "conv2d_1 (Conv2D)            (None, 26, 26, 32)        320       \n",
      "_________________________________________________________________\n",
      "max_pooling2d_1 (MaxPooling2 (None, 13, 13, 32)        0         \n",
      "_________________________________________________________________\n",
      "conv2d_2 (Conv2D)            (None, 11, 11, 64)        18496     \n",
      "_________________________________________________________________\n",
      "max_pooling2d_2 (MaxPooling2 (None, 5, 5, 64)          0         \n",
      "_________________________________________________________________\n",
      "conv2d_3 (Conv2D)            (None, 3, 3, 64)          36928     \n",
      "_________________________________________________________________\n",
      "flatten_1 (Flatten)          (None, 576)               0         \n",
      "_________________________________________________________________\n",
      "dense_1 (Dense)              (None, 64)                36928     \n",
      "_________________________________________________________________\n",
      "dense_2 (Dense)              (None, 10)                650       \n",
      "=================================================================\n",
      "Total params: 93,322\n",
      "Trainable params: 93,322\n",
      "Non-trainable params: 0\n",
      "_________________________________________________________________\n"
     ]
    }
   ],
   "source": [
    "from keras import layers\n",
    "from keras import models\n",
    "\n",
    "model=models.Sequential()\n",
    "model.add(layers.Conv2D(32, (3,3), activation='relu', input_shape=(28, 28, 1)))\n",
    "model.add(layers.MaxPooling2D((2,2)))\n",
    "model.add(layers.Conv2D(64, (3,3), activation='relu', input_shape=(28, 28, 1)))\n",
    "model.add(layers.MaxPooling2D((2,2)))\n",
    "model.add(layers.Conv2D(64, (3,3), activation='relu', input_shape=(28, 28, 1)))\n",
    "model.add(layers.Flatten())\n",
    "model.add(layers.Dense(64,activation='relu'))\n",
    "model.add(layers.Dense(10,activation='softmax'))\n",
    "model.compile(optimizer='adam',\n",
    "             loss='categorical_crossentropy',\n",
    "             metrics=['accuracy'])\n",
    "model.summary()"
   ]
  },
  {
   "cell_type": "code",
   "execution_count": 8,
   "metadata": {},
   "outputs": [
    {
     "name": "stdout",
     "output_type": "stream",
     "text": [
      "WARNING:tensorflow:From C:\\Users\\wamsa\\Anaconda3\\lib\\site-packages\\tensorflow_core\\python\\ops\\math_grad.py:1424: where (from tensorflow.python.ops.array_ops) is deprecated and will be removed in a future version.\n",
      "Instructions for updating:\n",
      "Use tf.where in 2.0, which has the same broadcast rule as np.where\n",
      "WARNING:tensorflow:From C:\\Users\\wamsa\\Anaconda3\\lib\\site-packages\\keras\\backend\\tensorflow_backend.py:986: The name tf.assign_add is deprecated. Please use tf.compat.v1.assign_add instead.\n",
      "\n",
      "WARNING:tensorflow:From C:\\Users\\wamsa\\Anaconda3\\lib\\site-packages\\keras\\backend\\tensorflow_backend.py:973: The name tf.assign is deprecated. Please use tf.compat.v1.assign instead.\n",
      "\n",
      "WARNING:tensorflow:From C:\\Users\\wamsa\\Anaconda3\\lib\\site-packages\\keras\\backend\\tensorflow_backend.py:2741: The name tf.Session is deprecated. Please use tf.compat.v1.Session instead.\n",
      "\n",
      "Epoch 1/5\n",
      "WARNING:tensorflow:From C:\\Users\\wamsa\\Anaconda3\\lib\\site-packages\\keras\\backend\\tensorflow_backend.py:174: The name tf.get_default_session is deprecated. Please use tf.compat.v1.get_default_session instead.\n",
      "\n",
      "WARNING:tensorflow:From C:\\Users\\wamsa\\Anaconda3\\lib\\site-packages\\keras\\backend\\tensorflow_backend.py:181: The name tf.ConfigProto is deprecated. Please use tf.compat.v1.ConfigProto instead.\n",
      "\n",
      "WARNING:tensorflow:From C:\\Users\\wamsa\\Anaconda3\\lib\\site-packages\\keras\\backend\\tensorflow_backend.py:190: The name tf.global_variables is deprecated. Please use tf.compat.v1.global_variables instead.\n",
      "\n",
      "WARNING:tensorflow:From C:\\Users\\wamsa\\Anaconda3\\lib\\site-packages\\keras\\backend\\tensorflow_backend.py:199: The name tf.is_variable_initialized is deprecated. Please use tf.compat.v1.is_variable_initialized instead.\n",
      "\n",
      "WARNING:tensorflow:From C:\\Users\\wamsa\\Anaconda3\\lib\\site-packages\\keras\\backend\\tensorflow_backend.py:206: The name tf.variables_initializer is deprecated. Please use tf.compat.v1.variables_initializer instead.\n",
      "\n",
      "60000/60000 [==============================] - 25s 415us/step - loss: 0.1722 - acc: 0.94720s - loss: 0.175\n",
      "Epoch 2/5\n",
      "60000/60000 [==============================] - 25s 423us/step - loss: 0.0464 - acc: 0.9858\n",
      "Epoch 3/5\n",
      "60000/60000 [==============================] - 25s 412us/step - loss: 0.0318 - acc: 0.9901\n",
      "Epoch 4/5\n",
      "60000/60000 [==============================] - 24s 399us/step - loss: 0.0245 - acc: 0.9922\n",
      "Epoch 5/5\n",
      "60000/60000 [==============================] - 24s 397us/step - loss: 0.0193 - acc: 0.9938\n"
     ]
    }
   ],
   "source": [
    "model.compile(optimizer='rmsprop'\n",
    "              ,loss='categorical_crossentropy'\n",
    "              ,metrics=['accuracy'])\n",
    "\n",
    "history=model.fit(train_images, train_labels, epochs=5, batch_size=64)"
   ]
  },
  {
   "cell_type": "code",
   "execution_count": 9,
   "metadata": {},
   "outputs": [
    {
     "name": "stdout",
     "output_type": "stream",
     "text": [
      "10000/10000 [==============================] - 1s 130us/step\n",
      "10000/10000 [==============================] - 1s 124us/step\n",
      "10000/10000 [==============================] - 1s 129us/step\n",
      "10000/10000 [==============================] - 1s 134us/step\n",
      "10000/10000 [==============================] - 1s 120us/step\n",
      "10000/10000 [==============================] - 1s 123us/step\n",
      "10000/10000 [==============================] - 1s 125us/step\n",
      "10000/10000 [==============================] - 1s 121us/step\n",
      "10000/10000 [==============================] - 1s 121us/step\n",
      "10000/10000 [==============================] - 1s 123us/step\n",
      "10000/10000 [==============================] - 2s 155us/step\n",
      "10000/10000 [==============================] - 1s 124us/step\n",
      "10000/10000 [==============================] - 1s 131us/step\n",
      "10000/10000 [==============================] - 1s 119us/step\n",
      "10000/10000 [==============================] - 1s 122us/step\n",
      "10000/10000 [==============================] - 1s 120us/step\n",
      "fin\n"
     ]
    }
   ],
   "source": [
    "acctrack=[]\n",
    "els=[1,5,10,15,20,40,100,200,300,400,500,600,700,750]\n",
    "eltrack=[]\n",
    "loss,acc=model.evaluate(test_images,test_labels)\n",
    "acctrack.append(acc)\n",
    "eltrack.append('No Noise')\n",
    "loss,acc=model.evaluate(x_test_noise1,test_labels)\n",
    "acctrack.append(acc)\n",
    "eltrack.append('Noise')\n",
    "\n",
    "for i in range(len(els)):\n",
    "    x_test_noise_flat=x_test_noise.reshape((10000,784))\n",
    "    U,S,VT=np.linalg.svd(x_test_noise_flat)\n",
    "    Snew=np.diag(S[range(0,els[i])])\n",
    "    Unew=U[:,range(0,els[i])]\n",
    "    VTnew=VT[range(0,els[i])]\n",
    "    x_test_noise_flat=np.matmul(Unew,np.matmul(Snew,VTnew))\n",
    "    x_test_noise_flat=x_test_noise_flat.reshape(10000,28,28)\n",
    "    x_test_noise_flat1=x_test_noise_flat.reshape((10000, 28, 28, 1))\n",
    "    x_test_noise_flat1=x_test_noise_flat1.astype('float32')/255\n",
    "    loss,acc=model.evaluate(x_test_noise_flat1,test_labels)\n",
    "    acctrack.append(acc)\n",
    "    eltrack.append(str(els[i])+' PC')\n",
    "print('fin')"
   ]
  },
  {
   "cell_type": "code",
   "execution_count": 24,
   "metadata": {},
   "outputs": [
    {
     "data": {
      "image/png": "[encoded data removed]",
      "text/plain": [
       "<Figure size 432x288 with 1 Axes>"
      ]
     },
     "metadata": {},
     "output_type": "display_data"
    }
   ],
   "source": [
    "plt.bar(x=eltrack[:2],height=acctrack[:2])\n",
    "plt.title(\"Accuracy of the Model With and Without Noise\")\n",
    "plt.ylabel(\"Accuracy\")\n",
    "plt.show()"
   ]
  },
  {
   "cell_type": "code",
   "execution_count": 16,
   "metadata": {},
   "outputs": [
    {
     "data": {
      "image/png": "[encoded data removed]",
      "text/plain": [
       "<Figure size 1440x360 with 1 Axes>"
      ]
     },
     "metadata": {},
     "output_type": "display_data"
    }
   ],
   "source": [
    "plt.figure(figsize=(20,5))\n",
    "plt.title(\"Projecting the Data Back With Selected Principal Components\")\n",
    "plt.xlabel(\"Number of Principal Components\")\n",
    "plt.ylabel(\"Accuracy After SVD:\")\n",
    "plt.bar(x=eltrack[2:],height=acctrack[2:])\n",
    "plt.show()"
   ]
  },
  {
   "cell_type": "code",
   "execution_count": 12,
   "metadata": {},
   "outputs": [],
   "source": [
    "new_list=[]\n",
    "new_list_acc=[]\n",
    "for i in range(len(eltrack)):\n",
    "    if i==3:\n",
    "        new_list.append(eltrack[i])\n",
    "        new_list_acc.append(acctrack[i])\n",
    "    elif i==5:\n",
    "        new_list.append(eltrack[i])\n",
    "        new_list_acc.append(acctrack[i])\n",
    "    elif i==7:\n",
    "        new_list.append(eltrack[i])\n",
    "        new_list_acc.append(acctrack[i])\n",
    "    if i==8:\n",
    "        new_list.append(eltrack[i])\n",
    "        new_list_acc.append(acctrack[i])\n",
    "    if i==10:\n",
    "        new_list.append(eltrack[i])\n",
    "        new_list_acc.append(acctrack[i])\n",
    "    if i==12:\n",
    "        new_list.append(eltrack[i])\n",
    "        new_list_acc.append(acctrack[i])\n",
    "    else:\n",
    "        pass"
   ]
  },
  {
   "cell_type": "code",
   "execution_count": 14,
   "metadata": {},
   "outputs": [
    {
     "data": {
      "image/png": "[encoded data removed]",
      "text/plain": [
       "<Figure size 360x360 with 1 Axes>"
      ]
     },
     "metadata": {},
     "output_type": "display_data"
    }
   ],
   "source": [
    "plt.figure(figsize=(5,5))\n",
    "plt.title(\"Projecting the Data Back With Selected Principal Components\")\n",
    "plt.xlabel(\"Number of Principal Components\")\n",
    "plt.ylabel(\"Accuracy After SVD:\")\n",
    "plt.bar(x=new_list,height=new_list_acc)\n",
    "plt.show()"
   ]
  },
  {
   "cell_type": "code",
   "execution_count": null,
   "metadata": {},
   "outputs": [],
   "source": []
  }
 ],
 "metadata": {
  "kernelspec": {
   "display_name": "Python 3",
   "language": "python",
   "name": "python3"
  },
  "language_info": {
   "codemirror_mode": {
    "name": "ipython",
    "version": 3
   },
   "file_extension": ".py",
   "mimetype": "text/x-python",
   "name": "python",
   "nbconvert_exporter": "python",
   "pygments_lexer": "ipython3",
   "version": "3.6.5"
  }
 },
 "nbformat": 4,
 "nbformat_minor": 2
}
